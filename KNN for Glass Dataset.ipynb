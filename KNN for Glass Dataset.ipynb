{
 "cells": [
  {
   "cell_type": "markdown",
   "id": "a451f703",
   "metadata": {},
   "source": [
    "# Prepare a model for glass classification using KNN\n"
   ]
  },
  {
   "cell_type": "code",
   "execution_count": 1,
   "id": "bac1c8a3",
   "metadata": {},
   "outputs": [],
   "source": [
    "import numpy as np\n",
    "import pandas as pd\n",
    "import matplotlib.pyplot as plt\n",
    "%matplotlib inline\n",
    "import seaborn as sns\n",
    "import warnings\n",
    "warnings.filterwarnings('ignore')"
   ]
  },
  {
   "cell_type": "code",
   "execution_count": 2,
   "id": "9401ee63",
   "metadata": {},
   "outputs": [],
   "source": [
    "glass = pd.read_csv(\"Glass.csv\")"
   ]
  },
  {
   "cell_type": "code",
   "execution_count": 3,
   "id": "87320ae4",
   "metadata": {},
   "outputs": [
    {
     "data": {
      "text/html": [
       "<div>\n",
       "<style scoped>\n",
       "    .dataframe tbody tr th:only-of-type {\n",
       "        vertical-align: middle;\n",
       "    }\n",
       "\n",
       "    .dataframe tbody tr th {\n",
       "        vertical-align: top;\n",
       "    }\n",
       "\n",
       "    .dataframe thead th {\n",
       "        text-align: right;\n",
       "    }\n",
       "</style>\n",
       "<table border=\"1\" class=\"dataframe\">\n",
       "  <thead>\n",
       "    <tr style=\"text-align: right;\">\n",
       "      <th></th>\n",
       "      <th>RI</th>\n",
       "      <th>Na</th>\n",
       "      <th>Mg</th>\n",
       "      <th>Al</th>\n",
       "      <th>Si</th>\n",
       "      <th>K</th>\n",
       "      <th>Ca</th>\n",
       "      <th>Ba</th>\n",
       "      <th>Fe</th>\n",
       "      <th>Type</th>\n",
       "    </tr>\n",
       "  </thead>\n",
       "  <tbody>\n",
       "    <tr>\n",
       "      <th>0</th>\n",
       "      <td>1.52101</td>\n",
       "      <td>13.64</td>\n",
       "      <td>4.49</td>\n",
       "      <td>1.10</td>\n",
       "      <td>71.78</td>\n",
       "      <td>0.06</td>\n",
       "      <td>8.75</td>\n",
       "      <td>0.0</td>\n",
       "      <td>0.0</td>\n",
       "      <td>1</td>\n",
       "    </tr>\n",
       "    <tr>\n",
       "      <th>1</th>\n",
       "      <td>1.51761</td>\n",
       "      <td>13.89</td>\n",
       "      <td>3.60</td>\n",
       "      <td>1.36</td>\n",
       "      <td>72.73</td>\n",
       "      <td>0.48</td>\n",
       "      <td>7.83</td>\n",
       "      <td>0.0</td>\n",
       "      <td>0.0</td>\n",
       "      <td>1</td>\n",
       "    </tr>\n",
       "    <tr>\n",
       "      <th>2</th>\n",
       "      <td>1.51618</td>\n",
       "      <td>13.53</td>\n",
       "      <td>3.55</td>\n",
       "      <td>1.54</td>\n",
       "      <td>72.99</td>\n",
       "      <td>0.39</td>\n",
       "      <td>7.78</td>\n",
       "      <td>0.0</td>\n",
       "      <td>0.0</td>\n",
       "      <td>1</td>\n",
       "    </tr>\n",
       "    <tr>\n",
       "      <th>3</th>\n",
       "      <td>1.51766</td>\n",
       "      <td>13.21</td>\n",
       "      <td>3.69</td>\n",
       "      <td>1.29</td>\n",
       "      <td>72.61</td>\n",
       "      <td>0.57</td>\n",
       "      <td>8.22</td>\n",
       "      <td>0.0</td>\n",
       "      <td>0.0</td>\n",
       "      <td>1</td>\n",
       "    </tr>\n",
       "    <tr>\n",
       "      <th>4</th>\n",
       "      <td>1.51742</td>\n",
       "      <td>13.27</td>\n",
       "      <td>3.62</td>\n",
       "      <td>1.24</td>\n",
       "      <td>73.08</td>\n",
       "      <td>0.55</td>\n",
       "      <td>8.07</td>\n",
       "      <td>0.0</td>\n",
       "      <td>0.0</td>\n",
       "      <td>1</td>\n",
       "    </tr>\n",
       "  </tbody>\n",
       "</table>\n",
       "</div>"
      ],
      "text/plain": [
       "        RI     Na    Mg    Al     Si     K    Ca   Ba   Fe  Type\n",
       "0  1.52101  13.64  4.49  1.10  71.78  0.06  8.75  0.0  0.0     1\n",
       "1  1.51761  13.89  3.60  1.36  72.73  0.48  7.83  0.0  0.0     1\n",
       "2  1.51618  13.53  3.55  1.54  72.99  0.39  7.78  0.0  0.0     1\n",
       "3  1.51766  13.21  3.69  1.29  72.61  0.57  8.22  0.0  0.0     1\n",
       "4  1.51742  13.27  3.62  1.24  73.08  0.55  8.07  0.0  0.0     1"
      ]
     },
     "execution_count": 3,
     "metadata": {},
     "output_type": "execute_result"
    }
   ],
   "source": [
    "glass.head()"
   ]
  },
  {
   "cell_type": "code",
   "execution_count": 4,
   "id": "3e7740de",
   "metadata": {},
   "outputs": [
    {
     "data": {
      "text/html": [
       "<div>\n",
       "<style scoped>\n",
       "    .dataframe tbody tr th:only-of-type {\n",
       "        vertical-align: middle;\n",
       "    }\n",
       "\n",
       "    .dataframe tbody tr th {\n",
       "        vertical-align: top;\n",
       "    }\n",
       "\n",
       "    .dataframe thead th {\n",
       "        text-align: right;\n",
       "    }\n",
       "</style>\n",
       "<table border=\"1\" class=\"dataframe\">\n",
       "  <thead>\n",
       "    <tr style=\"text-align: right;\">\n",
       "      <th></th>\n",
       "      <th>RI</th>\n",
       "      <th>Na</th>\n",
       "      <th>Mg</th>\n",
       "      <th>Al</th>\n",
       "      <th>Si</th>\n",
       "      <th>K</th>\n",
       "      <th>Ca</th>\n",
       "      <th>Ba</th>\n",
       "      <th>Fe</th>\n",
       "      <th>Type</th>\n",
       "    </tr>\n",
       "  </thead>\n",
       "  <tbody>\n",
       "    <tr>\n",
       "      <th>209</th>\n",
       "      <td>1.51623</td>\n",
       "      <td>14.14</td>\n",
       "      <td>0.0</td>\n",
       "      <td>2.88</td>\n",
       "      <td>72.61</td>\n",
       "      <td>0.08</td>\n",
       "      <td>9.18</td>\n",
       "      <td>1.06</td>\n",
       "      <td>0.0</td>\n",
       "      <td>7</td>\n",
       "    </tr>\n",
       "    <tr>\n",
       "      <th>210</th>\n",
       "      <td>1.51685</td>\n",
       "      <td>14.92</td>\n",
       "      <td>0.0</td>\n",
       "      <td>1.99</td>\n",
       "      <td>73.06</td>\n",
       "      <td>0.00</td>\n",
       "      <td>8.40</td>\n",
       "      <td>1.59</td>\n",
       "      <td>0.0</td>\n",
       "      <td>7</td>\n",
       "    </tr>\n",
       "    <tr>\n",
       "      <th>211</th>\n",
       "      <td>1.52065</td>\n",
       "      <td>14.36</td>\n",
       "      <td>0.0</td>\n",
       "      <td>2.02</td>\n",
       "      <td>73.42</td>\n",
       "      <td>0.00</td>\n",
       "      <td>8.44</td>\n",
       "      <td>1.64</td>\n",
       "      <td>0.0</td>\n",
       "      <td>7</td>\n",
       "    </tr>\n",
       "    <tr>\n",
       "      <th>212</th>\n",
       "      <td>1.51651</td>\n",
       "      <td>14.38</td>\n",
       "      <td>0.0</td>\n",
       "      <td>1.94</td>\n",
       "      <td>73.61</td>\n",
       "      <td>0.00</td>\n",
       "      <td>8.48</td>\n",
       "      <td>1.57</td>\n",
       "      <td>0.0</td>\n",
       "      <td>7</td>\n",
       "    </tr>\n",
       "    <tr>\n",
       "      <th>213</th>\n",
       "      <td>1.51711</td>\n",
       "      <td>14.23</td>\n",
       "      <td>0.0</td>\n",
       "      <td>2.08</td>\n",
       "      <td>73.36</td>\n",
       "      <td>0.00</td>\n",
       "      <td>8.62</td>\n",
       "      <td>1.67</td>\n",
       "      <td>0.0</td>\n",
       "      <td>7</td>\n",
       "    </tr>\n",
       "  </tbody>\n",
       "</table>\n",
       "</div>"
      ],
      "text/plain": [
       "          RI     Na   Mg    Al     Si     K    Ca    Ba   Fe  Type\n",
       "209  1.51623  14.14  0.0  2.88  72.61  0.08  9.18  1.06  0.0     7\n",
       "210  1.51685  14.92  0.0  1.99  73.06  0.00  8.40  1.59  0.0     7\n",
       "211  1.52065  14.36  0.0  2.02  73.42  0.00  8.44  1.64  0.0     7\n",
       "212  1.51651  14.38  0.0  1.94  73.61  0.00  8.48  1.57  0.0     7\n",
       "213  1.51711  14.23  0.0  2.08  73.36  0.00  8.62  1.67  0.0     7"
      ]
     },
     "execution_count": 4,
     "metadata": {},
     "output_type": "execute_result"
    }
   ],
   "source": [
    "glass.tail()"
   ]
  },
  {
   "cell_type": "code",
   "execution_count": 5,
   "id": "c3ec0cec",
   "metadata": {},
   "outputs": [
    {
     "data": {
      "text/html": [
       "<div>\n",
       "<style scoped>\n",
       "    .dataframe tbody tr th:only-of-type {\n",
       "        vertical-align: middle;\n",
       "    }\n",
       "\n",
       "    .dataframe tbody tr th {\n",
       "        vertical-align: top;\n",
       "    }\n",
       "\n",
       "    .dataframe thead th {\n",
       "        text-align: right;\n",
       "    }\n",
       "</style>\n",
       "<table border=\"1\" class=\"dataframe\">\n",
       "  <thead>\n",
       "    <tr style=\"text-align: right;\">\n",
       "      <th></th>\n",
       "      <th>RI</th>\n",
       "      <th>Na</th>\n",
       "      <th>Mg</th>\n",
       "      <th>Al</th>\n",
       "      <th>Si</th>\n",
       "      <th>K</th>\n",
       "      <th>Ca</th>\n",
       "      <th>Ba</th>\n",
       "      <th>Fe</th>\n",
       "      <th>Type</th>\n",
       "    </tr>\n",
       "  </thead>\n",
       "  <tbody>\n",
       "    <tr>\n",
       "      <th>count</th>\n",
       "      <td>214.000000</td>\n",
       "      <td>214.000000</td>\n",
       "      <td>214.000000</td>\n",
       "      <td>214.000000</td>\n",
       "      <td>214.000000</td>\n",
       "      <td>214.000000</td>\n",
       "      <td>214.000000</td>\n",
       "      <td>214.000000</td>\n",
       "      <td>214.000000</td>\n",
       "      <td>214.000000</td>\n",
       "    </tr>\n",
       "    <tr>\n",
       "      <th>mean</th>\n",
       "      <td>1.518365</td>\n",
       "      <td>13.407850</td>\n",
       "      <td>2.684533</td>\n",
       "      <td>1.444907</td>\n",
       "      <td>72.650935</td>\n",
       "      <td>0.497056</td>\n",
       "      <td>8.956963</td>\n",
       "      <td>0.175047</td>\n",
       "      <td>0.057009</td>\n",
       "      <td>2.780374</td>\n",
       "    </tr>\n",
       "    <tr>\n",
       "      <th>std</th>\n",
       "      <td>0.003037</td>\n",
       "      <td>0.816604</td>\n",
       "      <td>1.442408</td>\n",
       "      <td>0.499270</td>\n",
       "      <td>0.774546</td>\n",
       "      <td>0.652192</td>\n",
       "      <td>1.423153</td>\n",
       "      <td>0.497219</td>\n",
       "      <td>0.097439</td>\n",
       "      <td>2.103739</td>\n",
       "    </tr>\n",
       "    <tr>\n",
       "      <th>min</th>\n",
       "      <td>1.511150</td>\n",
       "      <td>10.730000</td>\n",
       "      <td>0.000000</td>\n",
       "      <td>0.290000</td>\n",
       "      <td>69.810000</td>\n",
       "      <td>0.000000</td>\n",
       "      <td>5.430000</td>\n",
       "      <td>0.000000</td>\n",
       "      <td>0.000000</td>\n",
       "      <td>1.000000</td>\n",
       "    </tr>\n",
       "    <tr>\n",
       "      <th>25%</th>\n",
       "      <td>1.516522</td>\n",
       "      <td>12.907500</td>\n",
       "      <td>2.115000</td>\n",
       "      <td>1.190000</td>\n",
       "      <td>72.280000</td>\n",
       "      <td>0.122500</td>\n",
       "      <td>8.240000</td>\n",
       "      <td>0.000000</td>\n",
       "      <td>0.000000</td>\n",
       "      <td>1.000000</td>\n",
       "    </tr>\n",
       "    <tr>\n",
       "      <th>50%</th>\n",
       "      <td>1.517680</td>\n",
       "      <td>13.300000</td>\n",
       "      <td>3.480000</td>\n",
       "      <td>1.360000</td>\n",
       "      <td>72.790000</td>\n",
       "      <td>0.555000</td>\n",
       "      <td>8.600000</td>\n",
       "      <td>0.000000</td>\n",
       "      <td>0.000000</td>\n",
       "      <td>2.000000</td>\n",
       "    </tr>\n",
       "    <tr>\n",
       "      <th>75%</th>\n",
       "      <td>1.519157</td>\n",
       "      <td>13.825000</td>\n",
       "      <td>3.600000</td>\n",
       "      <td>1.630000</td>\n",
       "      <td>73.087500</td>\n",
       "      <td>0.610000</td>\n",
       "      <td>9.172500</td>\n",
       "      <td>0.000000</td>\n",
       "      <td>0.100000</td>\n",
       "      <td>3.000000</td>\n",
       "    </tr>\n",
       "    <tr>\n",
       "      <th>max</th>\n",
       "      <td>1.533930</td>\n",
       "      <td>17.380000</td>\n",
       "      <td>4.490000</td>\n",
       "      <td>3.500000</td>\n",
       "      <td>75.410000</td>\n",
       "      <td>6.210000</td>\n",
       "      <td>16.190000</td>\n",
       "      <td>3.150000</td>\n",
       "      <td>0.510000</td>\n",
       "      <td>7.000000</td>\n",
       "    </tr>\n",
       "  </tbody>\n",
       "</table>\n",
       "</div>"
      ],
      "text/plain": [
       "               RI          Na          Mg          Al          Si           K  \\\n",
       "count  214.000000  214.000000  214.000000  214.000000  214.000000  214.000000   \n",
       "mean     1.518365   13.407850    2.684533    1.444907   72.650935    0.497056   \n",
       "std      0.003037    0.816604    1.442408    0.499270    0.774546    0.652192   \n",
       "min      1.511150   10.730000    0.000000    0.290000   69.810000    0.000000   \n",
       "25%      1.516522   12.907500    2.115000    1.190000   72.280000    0.122500   \n",
       "50%      1.517680   13.300000    3.480000    1.360000   72.790000    0.555000   \n",
       "75%      1.519157   13.825000    3.600000    1.630000   73.087500    0.610000   \n",
       "max      1.533930   17.380000    4.490000    3.500000   75.410000    6.210000   \n",
       "\n",
       "               Ca          Ba          Fe        Type  \n",
       "count  214.000000  214.000000  214.000000  214.000000  \n",
       "mean     8.956963    0.175047    0.057009    2.780374  \n",
       "std      1.423153    0.497219    0.097439    2.103739  \n",
       "min      5.430000    0.000000    0.000000    1.000000  \n",
       "25%      8.240000    0.000000    0.000000    1.000000  \n",
       "50%      8.600000    0.000000    0.000000    2.000000  \n",
       "75%      9.172500    0.000000    0.100000    3.000000  \n",
       "max     16.190000    3.150000    0.510000    7.000000  "
      ]
     },
     "execution_count": 5,
     "metadata": {},
     "output_type": "execute_result"
    }
   ],
   "source": [
    "glass.describe()"
   ]
  },
  {
   "cell_type": "code",
   "execution_count": 6,
   "id": "42d51b76",
   "metadata": {},
   "outputs": [
    {
     "data": {
      "text/plain": [
       "(214, 10)"
      ]
     },
     "execution_count": 6,
     "metadata": {},
     "output_type": "execute_result"
    }
   ],
   "source": [
    "glass.shape"
   ]
  },
  {
   "cell_type": "code",
   "execution_count": 7,
   "id": "2f399197",
   "metadata": {},
   "outputs": [
    {
     "data": {
      "text/plain": [
       "1"
      ]
     },
     "execution_count": 7,
     "metadata": {},
     "output_type": "execute_result"
    }
   ],
   "source": [
    "glass.duplicated().sum()"
   ]
  },
  {
   "cell_type": "code",
   "execution_count": 8,
   "id": "70f2ac81",
   "metadata": {},
   "outputs": [
    {
     "data": {
      "text/plain": [
       "0      False\n",
       "1      False\n",
       "2      False\n",
       "3      False\n",
       "4      False\n",
       "       ...  \n",
       "209    False\n",
       "210    False\n",
       "211    False\n",
       "212    False\n",
       "213    False\n",
       "Length: 214, dtype: bool"
      ]
     },
     "execution_count": 8,
     "metadata": {},
     "output_type": "execute_result"
    }
   ],
   "source": [
    "glass.duplicated()"
   ]
  },
  {
   "cell_type": "code",
   "execution_count": 9,
   "id": "7beafcad",
   "metadata": {},
   "outputs": [
    {
     "data": {
      "text/html": [
       "<div>\n",
       "<style scoped>\n",
       "    .dataframe tbody tr th:only-of-type {\n",
       "        vertical-align: middle;\n",
       "    }\n",
       "\n",
       "    .dataframe tbody tr th {\n",
       "        vertical-align: top;\n",
       "    }\n",
       "\n",
       "    .dataframe thead th {\n",
       "        text-align: right;\n",
       "    }\n",
       "</style>\n",
       "<table border=\"1\" class=\"dataframe\">\n",
       "  <thead>\n",
       "    <tr style=\"text-align: right;\">\n",
       "      <th></th>\n",
       "      <th>RI</th>\n",
       "      <th>Na</th>\n",
       "      <th>Mg</th>\n",
       "      <th>Al</th>\n",
       "      <th>Si</th>\n",
       "      <th>K</th>\n",
       "      <th>Ca</th>\n",
       "      <th>Ba</th>\n",
       "      <th>Fe</th>\n",
       "      <th>Type</th>\n",
       "    </tr>\n",
       "  </thead>\n",
       "  <tbody>\n",
       "    <tr>\n",
       "      <th>39</th>\n",
       "      <td>1.52213</td>\n",
       "      <td>14.21</td>\n",
       "      <td>3.82</td>\n",
       "      <td>0.47</td>\n",
       "      <td>71.77</td>\n",
       "      <td>0.11</td>\n",
       "      <td>9.57</td>\n",
       "      <td>0.0</td>\n",
       "      <td>0.0</td>\n",
       "      <td>1</td>\n",
       "    </tr>\n",
       "  </tbody>\n",
       "</table>\n",
       "</div>"
      ],
      "text/plain": [
       "         RI     Na    Mg    Al     Si     K    Ca   Ba   Fe  Type\n",
       "39  1.52213  14.21  3.82  0.47  71.77  0.11  9.57  0.0  0.0     1"
      ]
     },
     "execution_count": 9,
     "metadata": {},
     "output_type": "execute_result"
    }
   ],
   "source": [
    "glass[glass.duplicated()]"
   ]
  },
  {
   "cell_type": "code",
   "execution_count": 10,
   "id": "d99a0dd2",
   "metadata": {},
   "outputs": [],
   "source": [
    "glass = glass.drop_duplicates()"
   ]
  },
  {
   "cell_type": "code",
   "execution_count": 11,
   "id": "7b906242",
   "metadata": {},
   "outputs": [
    {
     "data": {
      "text/plain": [
       "RI      0\n",
       "Na      0\n",
       "Mg      0\n",
       "Al      0\n",
       "Si      0\n",
       "K       0\n",
       "Ca      0\n",
       "Ba      0\n",
       "Fe      0\n",
       "Type    0\n",
       "dtype: int64"
      ]
     },
     "execution_count": 11,
     "metadata": {},
     "output_type": "execute_result"
    }
   ],
   "source": [
    "glass.isnull().sum()"
   ]
  },
  {
   "cell_type": "code",
   "execution_count": 12,
   "id": "cbe5b351",
   "metadata": {},
   "outputs": [
    {
     "data": {
      "image/png": "[encoded data removed]",
      "text/plain": [
       "<Figure size 432x288 with 1 Axes>"
      ]
     },
     "metadata": {
      "needs_background": "light"
     },
     "output_type": "display_data"
    },
    {
     "data": {
      "image/png": "[encoded data removed]",
      "text/plain": [
       "<Figure size 432x288 with 1 Axes>"
      ]
     },
     "metadata": {
      "needs_background": "light"
     },
     "output_type": "display_data"
    },
    {
     "data": {
      "image/png": "[encoded data removed]",
      "text/plain": [
       "<Figure size 432x288 with 1 Axes>"
      ]
     },
     "metadata": {
      "needs_background": "light"
     },
     "output_type": "display_data"
    },
    {
     "data": {
      "image/png": "[encoded data removed]",
      "text/plain": [
       "<Figure size 432x288 with 1 Axes>"
      ]
     },
     "metadata": {
      "needs_background": "light"
     },
     "output_type": "display_data"
    },
    {
     "data": {
      "image/png": "[encoded data removed]",
      "text/plain": [
       "<Figure size 432x288 with 1 Axes>"
      ]
     },
     "metadata": {
      "needs_background": "light"
     },
     "output_type": "display_data"
    },
    {
     "data": {
      "image/png": "[encoded data removed]",
      "text/plain": [
       "<Figure size 432x288 with 1 Axes>"
      ]
     },
     "metadata": {
      "needs_background": "light"
     },
     "output_type": "display_data"
    },
    {
     "data": {
      "image/png": "[encoded data removed]",
      "text/plain": [
       "<Figure size 432x288 with 1 Axes>"
      ]
     },
     "metadata": {
      "needs_background": "light"
     },
     "output_type": "display_data"
    },
    {
     "data": {
      "image/png": "[encoded data removed]",
      "text/plain": [
       "<Figure size 432x288 with 1 Axes>"
      ]
     },
     "metadata": {
      "needs_background": "light"
     },
     "output_type": "display_data"
    },
    {
     "data": {
      "image/png": "[encoded data removed]",
      "text/plain": [
       "<Figure size 432x288 with 1 Axes>"
      ]
     },
     "metadata": {
      "needs_background": "light"
     },
     "output_type": "display_data"
    },
    {
     "data": {
      "image/png": "[encoded data removed]",
      "text/plain": [
       "<Figure size 432x288 with 1 Axes>"
      ]
     },
     "metadata": {
      "needs_background": "light"
     },
     "output_type": "display_data"
    }
   ],
   "source": [
    "for feature in glass:\n",
    "    data = glass.copy()\n",
    "    data[feature].hist(bins=25)\n",
    "    plt.title(feature)\n",
    "    plt.show()"
   ]
  },
  {
   "cell_type": "code",
   "execution_count": 13,
   "id": "8314d3b5",
   "metadata": {},
   "outputs": [
    {
     "data": {
      "image/png": "[encoded data removed]",
      "text/plain": [
       "<Figure size 432x288 with 1 Axes>"
      ]
     },
     "metadata": {
      "needs_background": "light"
     },
     "output_type": "display_data"
    },
    {
     "data": {
      "image/png": "[encoded data removed]",
      "text/plain": [
       "<Figure size 432x288 with 1 Axes>"
      ]
     },
     "metadata": {
      "needs_background": "light"
     },
     "output_type": "display_data"
    },
    {
     "data": {
      "image/png": "[encoded data removed]",
      "text/plain": [
       "<Figure size 432x288 with 1 Axes>"
      ]
     },
     "metadata": {
      "needs_background": "light"
     },
     "output_type": "display_data"
    },
    {
     "data": {
      "image/png": "[encoded data removed]",
      "text/plain": [
       "<Figure size 432x288 with 1 Axes>"
      ]
     },
     "metadata": {
      "needs_background": "light"
     },
     "output_type": "display_data"
    },
    {
     "data": {
      "image/png": "[encoded data removed]",
      "text/plain": [
       "<Figure size 432x288 with 1 Axes>"
      ]
     },
     "metadata": {
      "needs_background": "light"
     },
     "output_type": "display_data"
    },
    {
     "data": {
      "image/png": "[encoded data removed]",
      "text/plain": [
       "<Figure size 432x288 with 1 Axes>"
      ]
     },
     "metadata": {
      "needs_background": "light"
     },
     "output_type": "display_data"
    },
    {
     "data": {
      "image/png": "[encoded data removed]",
      "text/plain": [
       "<Figure size 432x288 with 1 Axes>"
      ]
     },
     "metadata": {
      "needs_background": "light"
     },
     "output_type": "display_data"
    },
    {
     "data": {
      "image/png": "[encoded data removed]",
      "text/plain": [
       "<Figure size 432x288 with 1 Axes>"
      ]
     },
     "metadata": {
      "needs_background": "light"
     },
     "output_type": "display_data"
    },
    {
     "data": {
      "image/png": "[encoded data removed]",
      "text/plain": [
       "<Figure size 432x288 with 1 Axes>"
      ]
     },
     "metadata": {
      "needs_background": "light"
     },
     "output_type": "display_data"
    },
    {
     "data": {
      "image/png": "[encoded data removed]",
      "text/plain": [
       "<Figure size 432x288 with 1 Axes>"
      ]
     },
     "metadata": {
      "needs_background": "light"
     },
     "output_type": "display_data"
    }
   ],
   "source": [
    "for feature in glass:\n",
    "    data = glass.copy()\n",
    "    sns.barplot('Type',feature,data=data)\n",
    "    plt.title(feature)\n",
    "    plt.show()"
   ]
  },
  {
   "cell_type": "markdown",
   "id": "7051e041",
   "metadata": {},
   "source": [
    "# Creating Model"
   ]
  },
  {
   "cell_type": "code",
   "execution_count": 14,
   "id": "efd0230b",
   "metadata": {},
   "outputs": [],
   "source": [
    "from sklearn.model_selection import KFold\n",
    "from sklearn.model_selection import cross_val_score\n",
    "from sklearn.model_selection import train_test_split\n",
    "from sklearn.neighbors import KNeighborsClassifier\n",
    "from sklearn.preprocessing import StandardScaler\n",
    "from sklearn.preprocessing import LabelEncoder\n",
    "from sklearn.metrics import classification_report,accuracy_score\n",
    "from sklearn.model_selection import GridSearchCV"
   ]
  },
  {
   "cell_type": "markdown",
   "id": "4d729ea1",
   "metadata": {},
   "source": [
    "# Transforming into Standardized Data"
   ]
  },
  {
   "cell_type": "code",
   "execution_count": 15,
   "id": "2953c78b",
   "metadata": {},
   "outputs": [],
   "source": [
    "sc = StandardScaler()"
   ]
  },
  {
   "cell_type": "code",
   "execution_count": 16,
   "id": "00afea37",
   "metadata": {},
   "outputs": [
    {
     "data": {
      "text/plain": [
       "array([[ 0.87984017,  0.28955813,  1.25723832, ..., -0.14346582,\n",
       "        -0.35380764, -0.58830108],\n",
       "       [-0.24381562,  0.59640332,  0.63931074, ..., -0.79020061,\n",
       "        -0.35380764, -0.58830108],\n",
       "       [-0.71641202,  0.15454625,  0.6045957 , ..., -0.82534924,\n",
       "        -0.35380764, -0.58830108],\n",
       "       ...,\n",
       "       [ 0.76086485,  1.17327228, -1.86017161, ..., -0.36138732,\n",
       "         2.94550057, -0.58830108],\n",
       "       [-0.60735132,  1.19781989, -1.86017161, ..., -0.33326842,\n",
       "         2.80467644, -0.58830108],\n",
       "       [-0.40905912,  1.01371278, -1.86017161, ..., -0.23485225,\n",
       "         3.00585377, -0.58830108]])"
      ]
     },
     "execution_count": 16,
     "metadata": {},
     "output_type": "execute_result"
    }
   ],
   "source": [
    "glass_std=sc.fit_transform(glass.drop('Type',axis=1))\n",
    "glass_std"
   ]
  },
  {
   "cell_type": "code",
   "execution_count": 17,
   "id": "52402d66",
   "metadata": {},
   "outputs": [
    {
     "data": {
      "text/html": [
       "<div>\n",
       "<style scoped>\n",
       "    .dataframe tbody tr th:only-of-type {\n",
       "        vertical-align: middle;\n",
       "    }\n",
       "\n",
       "    .dataframe tbody tr th {\n",
       "        vertical-align: top;\n",
       "    }\n",
       "\n",
       "    .dataframe thead th {\n",
       "        text-align: right;\n",
       "    }\n",
       "</style>\n",
       "<table border=\"1\" class=\"dataframe\">\n",
       "  <thead>\n",
       "    <tr style=\"text-align: right;\">\n",
       "      <th></th>\n",
       "      <th>RI</th>\n",
       "      <th>Na</th>\n",
       "      <th>Mg</th>\n",
       "      <th>Al</th>\n",
       "      <th>Si</th>\n",
       "      <th>K</th>\n",
       "      <th>Ca</th>\n",
       "      <th>Ba</th>\n",
       "      <th>Fe</th>\n",
       "    </tr>\n",
       "  </thead>\n",
       "  <tbody>\n",
       "    <tr>\n",
       "      <th>0</th>\n",
       "      <td>0.879840</td>\n",
       "      <td>0.289558</td>\n",
       "      <td>1.257238</td>\n",
       "      <td>-0.706370</td>\n",
       "      <td>-1.133248</td>\n",
       "      <td>-0.673480</td>\n",
       "      <td>-0.143466</td>\n",
       "      <td>-0.353808</td>\n",
       "      <td>-0.588301</td>\n",
       "    </tr>\n",
       "    <tr>\n",
       "      <th>1</th>\n",
       "      <td>-0.243816</td>\n",
       "      <td>0.596403</td>\n",
       "      <td>0.639311</td>\n",
       "      <td>-0.180863</td>\n",
       "      <td>0.097037</td>\n",
       "      <td>-0.028962</td>\n",
       "      <td>-0.790201</td>\n",
       "      <td>-0.353808</td>\n",
       "      <td>-0.588301</td>\n",
       "    </tr>\n",
       "    <tr>\n",
       "      <th>2</th>\n",
       "      <td>-0.716412</td>\n",
       "      <td>0.154546</td>\n",
       "      <td>0.604596</td>\n",
       "      <td>0.182950</td>\n",
       "      <td>0.433746</td>\n",
       "      <td>-0.167073</td>\n",
       "      <td>-0.825349</td>\n",
       "      <td>-0.353808</td>\n",
       "      <td>-0.588301</td>\n",
       "    </tr>\n",
       "    <tr>\n",
       "      <th>3</th>\n",
       "      <td>-0.227291</td>\n",
       "      <td>-0.238216</td>\n",
       "      <td>0.701798</td>\n",
       "      <td>-0.322346</td>\n",
       "      <td>-0.058368</td>\n",
       "      <td>0.109149</td>\n",
       "      <td>-0.516041</td>\n",
       "      <td>-0.353808</td>\n",
       "      <td>-0.588301</td>\n",
       "    </tr>\n",
       "    <tr>\n",
       "      <th>4</th>\n",
       "      <td>-0.306608</td>\n",
       "      <td>-0.164573</td>\n",
       "      <td>0.653197</td>\n",
       "      <td>-0.423405</td>\n",
       "      <td>0.550299</td>\n",
       "      <td>0.078457</td>\n",
       "      <td>-0.621487</td>\n",
       "      <td>-0.353808</td>\n",
       "      <td>-0.588301</td>\n",
       "    </tr>\n",
       "    <tr>\n",
       "      <th>...</th>\n",
       "      <td>...</td>\n",
       "      <td>...</td>\n",
       "      <td>...</td>\n",
       "      <td>...</td>\n",
       "      <td>...</td>\n",
       "      <td>...</td>\n",
       "      <td>...</td>\n",
       "      <td>...</td>\n",
       "      <td>...</td>\n",
       "    </tr>\n",
       "    <tr>\n",
       "      <th>208</th>\n",
       "      <td>-0.699888</td>\n",
       "      <td>0.903249</td>\n",
       "      <td>-1.860172</td>\n",
       "      <td>2.891336</td>\n",
       "      <td>-0.058368</td>\n",
       "      <td>-0.642789</td>\n",
       "      <td>0.158812</td>\n",
       "      <td>1.778672</td>\n",
       "      <td>-0.588301</td>\n",
       "    </tr>\n",
       "    <tr>\n",
       "      <th>209</th>\n",
       "      <td>-0.494986</td>\n",
       "      <td>1.860605</td>\n",
       "      <td>-1.860172</td>\n",
       "      <td>1.092483</td>\n",
       "      <td>0.524398</td>\n",
       "      <td>-0.765554</td>\n",
       "      <td>-0.389506</td>\n",
       "      <td>2.844912</td>\n",
       "      <td>-0.588301</td>\n",
       "    </tr>\n",
       "    <tr>\n",
       "      <th>210</th>\n",
       "      <td>0.760865</td>\n",
       "      <td>1.173272</td>\n",
       "      <td>-1.860172</td>\n",
       "      <td>1.153118</td>\n",
       "      <td>0.990612</td>\n",
       "      <td>-0.765554</td>\n",
       "      <td>-0.361387</td>\n",
       "      <td>2.945501</td>\n",
       "      <td>-0.588301</td>\n",
       "    </tr>\n",
       "    <tr>\n",
       "      <th>211</th>\n",
       "      <td>-0.607351</td>\n",
       "      <td>1.197820</td>\n",
       "      <td>-1.860172</td>\n",
       "      <td>0.991424</td>\n",
       "      <td>1.236668</td>\n",
       "      <td>-0.765554</td>\n",
       "      <td>-0.333268</td>\n",
       "      <td>2.804676</td>\n",
       "      <td>-0.588301</td>\n",
       "    </tr>\n",
       "    <tr>\n",
       "      <th>212</th>\n",
       "      <td>-0.409059</td>\n",
       "      <td>1.013713</td>\n",
       "      <td>-1.860172</td>\n",
       "      <td>1.274389</td>\n",
       "      <td>0.912909</td>\n",
       "      <td>-0.765554</td>\n",
       "      <td>-0.234852</td>\n",
       "      <td>3.005854</td>\n",
       "      <td>-0.588301</td>\n",
       "    </tr>\n",
       "  </tbody>\n",
       "</table>\n",
       "<p>213 rows × 9 columns</p>\n",
       "</div>"
      ],
      "text/plain": [
       "           RI        Na        Mg        Al        Si         K        Ca  \\\n",
       "0    0.879840  0.289558  1.257238 -0.706370 -1.133248 -0.673480 -0.143466   \n",
       "1   -0.243816  0.596403  0.639311 -0.180863  0.097037 -0.028962 -0.790201   \n",
       "2   -0.716412  0.154546  0.604596  0.182950  0.433746 -0.167073 -0.825349   \n",
       "3   -0.227291 -0.238216  0.701798 -0.322346 -0.058368  0.109149 -0.516041   \n",
       "4   -0.306608 -0.164573  0.653197 -0.423405  0.550299  0.078457 -0.621487   \n",
       "..        ...       ...       ...       ...       ...       ...       ...   \n",
       "208 -0.699888  0.903249 -1.860172  2.891336 -0.058368 -0.642789  0.158812   \n",
       "209 -0.494986  1.860605 -1.860172  1.092483  0.524398 -0.765554 -0.389506   \n",
       "210  0.760865  1.173272 -1.860172  1.153118  0.990612 -0.765554 -0.361387   \n",
       "211 -0.607351  1.197820 -1.860172  0.991424  1.236668 -0.765554 -0.333268   \n",
       "212 -0.409059  1.013713 -1.860172  1.274389  0.912909 -0.765554 -0.234852   \n",
       "\n",
       "           Ba        Fe  \n",
       "0   -0.353808 -0.588301  \n",
       "1   -0.353808 -0.588301  \n",
       "2   -0.353808 -0.588301  \n",
       "3   -0.353808 -0.588301  \n",
       "4   -0.353808 -0.588301  \n",
       "..        ...       ...  \n",
       "208  1.778672 -0.588301  \n",
       "209  2.844912 -0.588301  \n",
       "210  2.945501 -0.588301  \n",
       "211  2.804676 -0.588301  \n",
       "212  3.005854 -0.588301  \n",
       "\n",
       "[213 rows x 9 columns]"
      ]
     },
     "execution_count": 17,
     "metadata": {},
     "output_type": "execute_result"
    }
   ],
   "source": [
    "glass_std=pd.DataFrame(glass_std,columns=glass.columns[:-1])\n",
    "glass_std"
   ]
  },
  {
   "cell_type": "code",
   "execution_count": 18,
   "id": "630aa412",
   "metadata": {},
   "outputs": [],
   "source": [
    "X = glass_std.iloc[:,0:]\n",
    "Y = glass.iloc[:, -1]"
   ]
  },
  {
   "cell_type": "markdown",
   "id": "f18f57fe",
   "metadata": {},
   "source": [
    "# Spliting into Train_Test Data"
   ]
  },
  {
   "cell_type": "code",
   "execution_count": 19,
   "id": "77ce5b73",
   "metadata": {},
   "outputs": [],
   "source": [
    "X_train,X_test,Y_train,Y_test = train_test_split(X,Y,test_size=0.3,random_state=0)"
   ]
  },
  {
   "cell_type": "code",
   "execution_count": 20,
   "id": "fcd89d87",
   "metadata": {},
   "outputs": [
    {
     "data": {
      "text/html": [
       "<div>\n",
       "<style scoped>\n",
       "    .dataframe tbody tr th:only-of-type {\n",
       "        vertical-align: middle;\n",
       "    }\n",
       "\n",
       "    .dataframe tbody tr th {\n",
       "        vertical-align: top;\n",
       "    }\n",
       "\n",
       "    .dataframe thead th {\n",
       "        text-align: right;\n",
       "    }\n",
       "</style>\n",
       "<table border=\"1\" class=\"dataframe\">\n",
       "  <thead>\n",
       "    <tr style=\"text-align: right;\">\n",
       "      <th></th>\n",
       "      <th>RI</th>\n",
       "      <th>Na</th>\n",
       "      <th>Mg</th>\n",
       "      <th>Al</th>\n",
       "      <th>Si</th>\n",
       "      <th>K</th>\n",
       "      <th>Ca</th>\n",
       "      <th>Ba</th>\n",
       "      <th>Fe</th>\n",
       "    </tr>\n",
       "  </thead>\n",
       "  <tbody>\n",
       "    <tr>\n",
       "      <th>13</th>\n",
       "      <td>-0.286779</td>\n",
       "      <td>-0.667799</td>\n",
       "      <td>0.611539</td>\n",
       "      <td>-0.362769</td>\n",
       "      <td>0.718654</td>\n",
       "      <td>0.063112</td>\n",
       "      <td>-0.403566</td>\n",
       "      <td>-0.353808</td>\n",
       "      <td>1.157796</td>\n",
       "    </tr>\n",
       "    <tr>\n",
       "      <th>111</th>\n",
       "      <td>3.113932</td>\n",
       "      <td>-0.937823</td>\n",
       "      <td>-1.860172</td>\n",
       "      <td>-1.575479</td>\n",
       "      <td>-0.822439</td>\n",
       "      <td>-0.673480</td>\n",
       "      <td>3.828329</td>\n",
       "      <td>-0.353808</td>\n",
       "      <td>-0.588301</td>\n",
       "    </tr>\n",
       "    <tr>\n",
       "      <th>158</th>\n",
       "      <td>-0.128145</td>\n",
       "      <td>0.117725</td>\n",
       "      <td>0.472679</td>\n",
       "      <td>0.364857</td>\n",
       "      <td>-0.926042</td>\n",
       "      <td>0.109149</td>\n",
       "      <td>-0.101287</td>\n",
       "      <td>-0.353808</td>\n",
       "      <td>0.336103</td>\n",
       "    </tr>\n",
       "    <tr>\n",
       "      <th>24</th>\n",
       "      <td>-0.379315</td>\n",
       "      <td>-0.029561</td>\n",
       "      <td>0.569881</td>\n",
       "      <td>-0.605311</td>\n",
       "      <td>0.252441</td>\n",
       "      <td>0.001729</td>\n",
       "      <td>-0.368417</td>\n",
       "      <td>-0.353808</td>\n",
       "      <td>-0.588301</td>\n",
       "    </tr>\n",
       "    <tr>\n",
       "      <th>30</th>\n",
       "      <td>-0.220682</td>\n",
       "      <td>-0.925549</td>\n",
       "      <td>0.611539</td>\n",
       "      <td>-0.302134</td>\n",
       "      <td>0.550299</td>\n",
       "      <td>0.170531</td>\n",
       "      <td>-0.185644</td>\n",
       "      <td>-0.353808</td>\n",
       "      <td>0.849661</td>\n",
       "    </tr>\n",
       "    <tr>\n",
       "      <th>...</th>\n",
       "      <td>...</td>\n",
       "      <td>...</td>\n",
       "      <td>...</td>\n",
       "      <td>...</td>\n",
       "      <td>...</td>\n",
       "      <td>...</td>\n",
       "      <td>...</td>\n",
       "      <td>...</td>\n",
       "      <td>...</td>\n",
       "    </tr>\n",
       "    <tr>\n",
       "      <th>67</th>\n",
       "      <td>1.048389</td>\n",
       "      <td>-0.348680</td>\n",
       "      <td>0.625425</td>\n",
       "      <td>-1.110607</td>\n",
       "      <td>-0.589333</td>\n",
       "      <td>-0.412604</td>\n",
       "      <td>0.608715</td>\n",
       "      <td>-0.353808</td>\n",
       "      <td>1.055084</td>\n",
       "    </tr>\n",
       "    <tr>\n",
       "      <th>192</th>\n",
       "      <td>-0.382620</td>\n",
       "      <td>1.651951</td>\n",
       "      <td>-1.860172</td>\n",
       "      <td>1.112695</td>\n",
       "      <td>0.472597</td>\n",
       "      <td>-0.765554</td>\n",
       "      <td>-0.298120</td>\n",
       "      <td>2.844912</td>\n",
       "      <td>0.233392</td>\n",
       "    </tr>\n",
       "    <tr>\n",
       "      <th>117</th>\n",
       "      <td>-0.534644</td>\n",
       "      <td>-0.127751</td>\n",
       "      <td>0.667083</td>\n",
       "      <td>0.162738</td>\n",
       "      <td>-0.161971</td>\n",
       "      <td>0.231914</td>\n",
       "      <td>-0.649606</td>\n",
       "      <td>-0.353808</td>\n",
       "      <td>2.390335</td>\n",
       "    </tr>\n",
       "    <tr>\n",
       "      <th>47</th>\n",
       "      <td>1.283034</td>\n",
       "      <td>-0.238216</td>\n",
       "      <td>0.757342</td>\n",
       "      <td>-1.332937</td>\n",
       "      <td>-0.861290</td>\n",
       "      <td>-0.566060</td>\n",
       "      <td>0.749309</td>\n",
       "      <td>-0.353808</td>\n",
       "      <td>-0.588301</td>\n",
       "    </tr>\n",
       "    <tr>\n",
       "      <th>172</th>\n",
       "      <td>0.688158</td>\n",
       "      <td>-0.029561</td>\n",
       "      <td>-1.860172</td>\n",
       "      <td>-0.100015</td>\n",
       "      <td>-0.524581</td>\n",
       "      <td>-0.259147</td>\n",
       "      <td>2.492681</td>\n",
       "      <td>-0.353808</td>\n",
       "      <td>-0.588301</td>\n",
       "    </tr>\n",
       "  </tbody>\n",
       "</table>\n",
       "<p>149 rows × 9 columns</p>\n",
       "</div>"
      ],
      "text/plain": [
       "           RI        Na        Mg        Al        Si         K        Ca  \\\n",
       "13  -0.286779 -0.667799  0.611539 -0.362769  0.718654  0.063112 -0.403566   \n",
       "111  3.113932 -0.937823 -1.860172 -1.575479 -0.822439 -0.673480  3.828329   \n",
       "158 -0.128145  0.117725  0.472679  0.364857 -0.926042  0.109149 -0.101287   \n",
       "24  -0.379315 -0.029561  0.569881 -0.605311  0.252441  0.001729 -0.368417   \n",
       "30  -0.220682 -0.925549  0.611539 -0.302134  0.550299  0.170531 -0.185644   \n",
       "..        ...       ...       ...       ...       ...       ...       ...   \n",
       "67   1.048389 -0.348680  0.625425 -1.110607 -0.589333 -0.412604  0.608715   \n",
       "192 -0.382620  1.651951 -1.860172  1.112695  0.472597 -0.765554 -0.298120   \n",
       "117 -0.534644 -0.127751  0.667083  0.162738 -0.161971  0.231914 -0.649606   \n",
       "47   1.283034 -0.238216  0.757342 -1.332937 -0.861290 -0.566060  0.749309   \n",
       "172  0.688158 -0.029561 -1.860172 -0.100015 -0.524581 -0.259147  2.492681   \n",
       "\n",
       "           Ba        Fe  \n",
       "13  -0.353808  1.157796  \n",
       "111 -0.353808 -0.588301  \n",
       "158 -0.353808  0.336103  \n",
       "24  -0.353808 -0.588301  \n",
       "30  -0.353808  0.849661  \n",
       "..        ...       ...  \n",
       "67  -0.353808  1.055084  \n",
       "192  2.844912  0.233392  \n",
       "117 -0.353808  2.390335  \n",
       "47  -0.353808 -0.588301  \n",
       "172 -0.353808 -0.588301  \n",
       "\n",
       "[149 rows x 9 columns]"
      ]
     },
     "execution_count": 20,
     "metadata": {},
     "output_type": "execute_result"
    }
   ],
   "source": [
    "X_train"
   ]
  },
  {
   "cell_type": "code",
   "execution_count": 21,
   "id": "e63437ea",
   "metadata": {},
   "outputs": [
    {
     "data": {
      "text/html": [
       "<div>\n",
       "<style scoped>\n",
       "    .dataframe tbody tr th:only-of-type {\n",
       "        vertical-align: middle;\n",
       "    }\n",
       "\n",
       "    .dataframe tbody tr th {\n",
       "        vertical-align: top;\n",
       "    }\n",
       "\n",
       "    .dataframe thead th {\n",
       "        text-align: right;\n",
       "    }\n",
       "</style>\n",
       "<table border=\"1\" class=\"dataframe\">\n",
       "  <thead>\n",
       "    <tr style=\"text-align: right;\">\n",
       "      <th></th>\n",
       "      <th>RI</th>\n",
       "      <th>Na</th>\n",
       "      <th>Mg</th>\n",
       "      <th>Al</th>\n",
       "      <th>Si</th>\n",
       "      <th>K</th>\n",
       "      <th>Ca</th>\n",
       "      <th>Ba</th>\n",
       "      <th>Fe</th>\n",
       "    </tr>\n",
       "  </thead>\n",
       "  <tbody>\n",
       "    <tr>\n",
       "      <th>196</th>\n",
       "      <td>-0.356181</td>\n",
       "      <td>1.590582</td>\n",
       "      <td>-1.860172</td>\n",
       "      <td>1.799897</td>\n",
       "      <td>0.809306</td>\n",
       "      <td>-0.765554</td>\n",
       "      <td>-0.002871</td>\n",
       "      <td>0.973963</td>\n",
       "      <td>-0.588301</td>\n",
       "    </tr>\n",
       "    <tr>\n",
       "      <th>37</th>\n",
       "      <td>-0.124840</td>\n",
       "      <td>-0.815085</td>\n",
       "      <td>0.555995</td>\n",
       "      <td>-0.201075</td>\n",
       "      <td>0.394895</td>\n",
       "      <td>0.216568</td>\n",
       "      <td>-0.192674</td>\n",
       "      <td>-0.353808</td>\n",
       "      <td>-0.588301</td>\n",
       "    </tr>\n",
       "    <tr>\n",
       "      <th>89</th>\n",
       "      <td>0.020574</td>\n",
       "      <td>-0.581882</td>\n",
       "      <td>0.736513</td>\n",
       "      <td>-0.686159</td>\n",
       "      <td>-0.485730</td>\n",
       "      <td>0.216568</td>\n",
       "      <td>0.004158</td>\n",
       "      <td>-0.353808</td>\n",
       "      <td>1.671354</td>\n",
       "    </tr>\n",
       "    <tr>\n",
       "      <th>166</th>\n",
       "      <td>0.443597</td>\n",
       "      <td>-0.937823</td>\n",
       "      <td>-1.860172</td>\n",
       "      <td>0.405281</td>\n",
       "      <td>1.417973</td>\n",
       "      <td>-0.182419</td>\n",
       "      <td>1.810798</td>\n",
       "      <td>-0.353808</td>\n",
       "      <td>-0.588301</td>\n",
       "    </tr>\n",
       "    <tr>\n",
       "      <th>150</th>\n",
       "      <td>0.965767</td>\n",
       "      <td>1.124177</td>\n",
       "      <td>0.847601</td>\n",
       "      <td>-1.252090</td>\n",
       "      <td>-1.495858</td>\n",
       "      <td>-0.765554</td>\n",
       "      <td>0.376734</td>\n",
       "      <td>-0.353808</td>\n",
       "      <td>-0.588301</td>\n",
       "    </tr>\n",
       "    <tr>\n",
       "      <th>...</th>\n",
       "      <td>...</td>\n",
       "      <td>...</td>\n",
       "      <td>...</td>\n",
       "      <td>...</td>\n",
       "      <td>...</td>\n",
       "      <td>...</td>\n",
       "      <td>...</td>\n",
       "      <td>...</td>\n",
       "      <td>...</td>\n",
       "    </tr>\n",
       "    <tr>\n",
       "      <th>154</th>\n",
       "      <td>-0.623876</td>\n",
       "      <td>-0.446870</td>\n",
       "      <td>0.500451</td>\n",
       "      <td>-0.382981</td>\n",
       "      <td>0.459647</td>\n",
       "      <td>0.032420</td>\n",
       "      <td>-0.262971</td>\n",
       "      <td>-0.353808</td>\n",
       "      <td>-0.588301</td>\n",
       "    </tr>\n",
       "    <tr>\n",
       "      <th>156</th>\n",
       "      <td>0.945938</td>\n",
       "      <td>0.768237</td>\n",
       "      <td>0.750399</td>\n",
       "      <td>-1.757386</td>\n",
       "      <td>-1.120298</td>\n",
       "      <td>-0.596752</td>\n",
       "      <td>0.489210</td>\n",
       "      <td>-0.353808</td>\n",
       "      <td>-0.588301</td>\n",
       "    </tr>\n",
       "    <tr>\n",
       "      <th>8</th>\n",
       "      <td>0.275049</td>\n",
       "      <td>0.780510</td>\n",
       "      <td>0.625425</td>\n",
       "      <td>-0.160651</td>\n",
       "      <td>-0.744737</td>\n",
       "      <td>0.093803</td>\n",
       "      <td>-0.459803</td>\n",
       "      <td>-0.353808</td>\n",
       "      <td>-0.588301</td>\n",
       "    </tr>\n",
       "    <tr>\n",
       "      <th>40</th>\n",
       "      <td>-0.263645</td>\n",
       "      <td>-0.851906</td>\n",
       "      <td>0.514337</td>\n",
       "      <td>-0.504252</td>\n",
       "      <td>0.705704</td>\n",
       "      <td>0.139840</td>\n",
       "      <td>-0.220793</td>\n",
       "      <td>-0.353808</td>\n",
       "      <td>-0.588301</td>\n",
       "    </tr>\n",
       "    <tr>\n",
       "      <th>129</th>\n",
       "      <td>1.131010</td>\n",
       "      <td>0.424570</td>\n",
       "      <td>-1.158928</td>\n",
       "      <td>-0.180863</td>\n",
       "      <td>-0.602283</td>\n",
       "      <td>-0.259147</td>\n",
       "      <td>1.536639</td>\n",
       "      <td>-0.353808</td>\n",
       "      <td>-0.588301</td>\n",
       "    </tr>\n",
       "  </tbody>\n",
       "</table>\n",
       "<p>64 rows × 9 columns</p>\n",
       "</div>"
      ],
      "text/plain": [
       "           RI        Na        Mg        Al        Si         K        Ca  \\\n",
       "196 -0.356181  1.590582 -1.860172  1.799897  0.809306 -0.765554 -0.002871   \n",
       "37  -0.124840 -0.815085  0.555995 -0.201075  0.394895  0.216568 -0.192674   \n",
       "89   0.020574 -0.581882  0.736513 -0.686159 -0.485730  0.216568  0.004158   \n",
       "166  0.443597 -0.937823 -1.860172  0.405281  1.417973 -0.182419  1.810798   \n",
       "150  0.965767  1.124177  0.847601 -1.252090 -1.495858 -0.765554  0.376734   \n",
       "..        ...       ...       ...       ...       ...       ...       ...   \n",
       "154 -0.623876 -0.446870  0.500451 -0.382981  0.459647  0.032420 -0.262971   \n",
       "156  0.945938  0.768237  0.750399 -1.757386 -1.120298 -0.596752  0.489210   \n",
       "8    0.275049  0.780510  0.625425 -0.160651 -0.744737  0.093803 -0.459803   \n",
       "40  -0.263645 -0.851906  0.514337 -0.504252  0.705704  0.139840 -0.220793   \n",
       "129  1.131010  0.424570 -1.158928 -0.180863 -0.602283 -0.259147  1.536639   \n",
       "\n",
       "           Ba        Fe  \n",
       "196  0.973963 -0.588301  \n",
       "37  -0.353808 -0.588301  \n",
       "89  -0.353808  1.671354  \n",
       "166 -0.353808 -0.588301  \n",
       "150 -0.353808 -0.588301  \n",
       "..        ...       ...  \n",
       "154 -0.353808 -0.588301  \n",
       "156 -0.353808 -0.588301  \n",
       "8   -0.353808 -0.588301  \n",
       "40  -0.353808 -0.588301  \n",
       "129 -0.353808 -0.588301  \n",
       "\n",
       "[64 rows x 9 columns]"
      ]
     },
     "execution_count": 21,
     "metadata": {},
     "output_type": "execute_result"
    }
   ],
   "source": [
    "X_test"
   ]
  },
  {
   "cell_type": "code",
   "execution_count": 22,
   "id": "2cc7e036",
   "metadata": {},
   "outputs": [
    {
     "data": {
      "text/plain": [
       "13     1\n",
       "112    2\n",
       "159    3\n",
       "24     1\n",
       "30     1\n",
       "      ..\n",
       "68     1\n",
       "193    7\n",
       "118    2\n",
       "48     1\n",
       "173    5\n",
       "Name: Type, Length: 149, dtype: int64"
      ]
     },
     "execution_count": 22,
     "metadata": {},
     "output_type": "execute_result"
    }
   ],
   "source": [
    "Y_train"
   ]
  },
  {
   "cell_type": "code",
   "execution_count": 23,
   "id": "42763d27",
   "metadata": {},
   "outputs": [
    {
     "data": {
      "text/plain": [
       "197    7\n",
       "37     1\n",
       "90     2\n",
       "167    5\n",
       "151    3\n",
       "      ..\n",
       "155    3\n",
       "157    3\n",
       "8      1\n",
       "41     1\n",
       "130    2\n",
       "Name: Type, Length: 64, dtype: int64"
      ]
     },
     "execution_count": 23,
     "metadata": {},
     "output_type": "execute_result"
    }
   ],
   "source": [
    "Y_test"
   ]
  },
  {
   "cell_type": "code",
   "execution_count": 24,
   "id": "c42eedf2",
   "metadata": {},
   "outputs": [],
   "source": [
    "num_folds=5\n",
    "kfold = KFold(n_splits=5)"
   ]
  },
  {
   "cell_type": "markdown",
   "id": "a180302d",
   "metadata": {},
   "source": [
    "# Applying KNN"
   ]
  },
  {
   "cell_type": "code",
   "execution_count": 25,
   "id": "f7976643",
   "metadata": {},
   "outputs": [
    {
     "data": {
      "text/plain": [
       "KNeighborsClassifier(metric='euclidean', n_neighbors=1)"
      ]
     },
     "execution_count": 25,
     "metadata": {},
     "output_type": "execute_result"
    }
   ],
   "source": [
    "model = KNeighborsClassifier(n_neighbors=1,metric='euclidean')\n",
    "model.fit(X_train,Y_train)"
   ]
  },
  {
   "cell_type": "code",
   "execution_count": 26,
   "id": "a18e14fb",
   "metadata": {},
   "outputs": [
    {
     "data": {
      "text/plain": [
       "1    29\n",
       "2    23\n",
       "7     6\n",
       "3     2\n",
       "5     2\n",
       "6     2\n",
       "dtype: int64"
      ]
     },
     "execution_count": 26,
     "metadata": {},
     "output_type": "execute_result"
    }
   ],
   "source": [
    "preds = model.predict(X_test)\n",
    "pd.Series(preds).value_counts()"
   ]
  },
  {
   "cell_type": "code",
   "execution_count": 27,
   "id": "4d9afa39",
   "metadata": {},
   "outputs": [
    {
     "name": "stdout",
     "output_type": "stream",
     "text": [
      "              precision    recall  f1-score   support\n",
      "\n",
      "           1       0.66      0.95      0.78        20\n",
      "           2       0.70      0.64      0.67        25\n",
      "           3       0.50      0.12      0.20         8\n",
      "           5       0.50      0.50      0.50         2\n",
      "           6       0.50      0.50      0.50         2\n",
      "           7       1.00      0.86      0.92         7\n",
      "\n",
      "    accuracy                           0.69        64\n",
      "   macro avg       0.64      0.60      0.59        64\n",
      "weighted avg       0.68      0.69      0.66        64\n",
      "\n"
     ]
    }
   ],
   "source": [
    "print(classification_report(Y_test,preds))"
   ]
  },
  {
   "cell_type": "code",
   "execution_count": 28,
   "id": "7bb7abf7",
   "metadata": {},
   "outputs": [
    {
     "data": {
      "text/plain": [
       "0.6875"
      ]
     },
     "execution_count": 28,
     "metadata": {},
     "output_type": "execute_result"
    }
   ],
   "source": [
    "accuracy_score(Y_test,preds)"
   ]
  },
  {
   "cell_type": "markdown",
   "id": "05aac9c1",
   "metadata": {},
   "source": [
    "# Checking Best value for K"
   ]
  },
  {
   "cell_type": "code",
   "execution_count": 29,
   "id": "86590dfd",
   "metadata": {},
   "outputs": [
    {
     "data": {
      "text/plain": [
       "GridSearchCV(cv=5, estimator=KNeighborsClassifier(),\n",
       "             param_grid={'n_neighbors': array([ 3,  5,  7,  9, 11, 13, 15, 17, 19, 21, 23, 25, 27, 29, 31, 33, 35,\n",
       "       37, 39, 41, 43, 45, 47, 49, 51, 53, 55, 57, 59, 61, 63, 65, 67, 69,\n",
       "       71, 73, 75, 77, 79])},\n",
       "             scoring='accuracy')"
      ]
     },
     "execution_count": 29,
     "metadata": {},
     "output_type": "execute_result"
    }
   ],
   "source": [
    "n_neighbors = np.array([2*i+1 for i in range(1,40)])\n",
    "param_grid = dict(n_neighbors=n_neighbors)\n",
    "model = KNeighborsClassifier()\n",
    "grid = GridSearchCV(estimator=model, param_grid=param_grid,cv=5,scoring='accuracy')\n",
    "grid.fit(X, Y)"
   ]
  },
  {
   "cell_type": "code",
   "execution_count": 30,
   "id": "3370b554",
   "metadata": {},
   "outputs": [
    {
     "name": "stdout",
     "output_type": "stream",
     "text": [
      "0.6527131782945736\n",
      "{'n_neighbors': 3}\n"
     ]
    }
   ],
   "source": [
    "print(grid.best_score_)\n",
    "print(grid.best_params_)"
   ]
  },
  {
   "cell_type": "code",
   "execution_count": 31,
   "id": "e9f32f0c",
   "metadata": {},
   "outputs": [
    {
     "data": {
      "image/png": "[encoded data removed]",
      "text/plain": [
       "<Figure size 936x576 with 1 Axes>"
      ]
     },
     "metadata": {
      "needs_background": "light"
     },
     "output_type": "display_data"
    },
    {
     "name": "stdout",
     "output_type": "stream",
     "text": [
      "Best accuracy is 0.703125 with K = 2\n"
     ]
    }
   ],
   "source": [
    "k_values = np.arange(1,40)\n",
    "train_accuracy = []\n",
    "test_accuracy = []\n",
    "\n",
    "for i, k in enumerate(k_values):\n",
    "    knn = KNeighborsClassifier(n_neighbors=k)\n",
    "    knn.fit(X_train,Y_train)\n",
    "    train_accuracy.append(knn.score(X_train,Y_train))\n",
    "    test_accuracy.append(knn.score(X_test,Y_test))\n",
    "# Plot\n",
    "plt.figure(figsize=[13,8])\n",
    "plt.plot(k_values, test_accuracy, label = 'Testing Accuracy')\n",
    "plt.plot(k_values, train_accuracy, label = 'Training Accuracy')\n",
    "plt.legend()\n",
    "plt.title('-value VS Accuracy')\n",
    "plt.xlabel('Number of Neighbors')\n",
    "plt.ylabel('Accuracy')\n",
    "plt.xticks(k_values)\n",
    "plt.savefig('graph.png')\n",
    "plt.show()\n",
    "print(\"Best accuracy is {} with K = {}\".format(np.max(test_accuracy),1+test_accuracy.index(np.max(test_accuracy))))"
   ]
  },
  {
   "cell_type": "markdown",
   "id": "5113e943",
   "metadata": {},
   "source": [
    "# As we can see the above graph the optimal value of K is 2 and also accuracy has been increased"
   ]
  },
  {
   "cell_type": "code",
   "execution_count": 32,
   "id": "d25c0249",
   "metadata": {},
   "outputs": [
    {
     "data": {
      "text/plain": [
       "KNeighborsClassifier(metric='euclidean', n_neighbors=2)"
      ]
     },
     "execution_count": 32,
     "metadata": {},
     "output_type": "execute_result"
    }
   ],
   "source": [
    "model2 = KNeighborsClassifier(n_neighbors=2,metric=\"euclidean\")\n",
    "model2.fit(X_train,Y_train)"
   ]
  },
  {
   "cell_type": "code",
   "execution_count": 33,
   "id": "c4133c97",
   "metadata": {},
   "outputs": [
    {
     "data": {
      "text/plain": [
       "1    33\n",
       "2    22\n",
       "7     6\n",
       "5     2\n",
       "6     1\n",
       "dtype: int64"
      ]
     },
     "execution_count": 33,
     "metadata": {},
     "output_type": "execute_result"
    }
   ],
   "source": [
    "preds2=model2.predict(X_test)\n",
    "pd.Series(preds2).value_counts()"
   ]
  },
  {
   "cell_type": "code",
   "execution_count": 34,
   "id": "4037ad4e",
   "metadata": {},
   "outputs": [
    {
     "name": "stdout",
     "output_type": "stream",
     "text": [
      "              precision    recall  f1-score   support\n",
      "\n",
      "           1       0.58      0.95      0.72        20\n",
      "           2       0.82      0.72      0.77        25\n",
      "           3       0.00      0.00      0.00         8\n",
      "           5       0.50      0.50      0.50         2\n",
      "           6       1.00      0.50      0.67         2\n",
      "           7       1.00      0.86      0.92         7\n",
      "\n",
      "    accuracy                           0.70        64\n",
      "   macro avg       0.65      0.59      0.60        64\n",
      "weighted avg       0.66      0.70      0.66        64\n",
      "\n"
     ]
    }
   ],
   "source": [
    "print(classification_report(Y_test,preds2))"
   ]
  },
  {
   "cell_type": "code",
   "execution_count": 35,
   "id": "1170d64b",
   "metadata": {},
   "outputs": [
    {
     "data": {
      "text/plain": [
       "0.703125"
      ]
     },
     "execution_count": 35,
     "metadata": {},
     "output_type": "execute_result"
    }
   ],
   "source": [
    "accuracy_score(Y_test,preds2)"
   ]
  },
  {
   "cell_type": "code",
   "execution_count": null,
   "id": "309c7f07",
   "metadata": {},
   "outputs": [],
   "source": []
  }
 ],
 "metadata": {
  "kernelspec": {
   "display_name": "Python 3",
   "language": "python",
   "name": "python3"
  },
  "language_info": {
   "codemirror_mode": {
    "name": "ipython",
    "version": 3
   },
   "file_extension": ".py",
   "mimetype": "text/x-python",
   "name": "python",
   "nbconvert_exporter": "python",
   "pygments_lexer": "ipython3",
   "version": "3.8.8"
  }
 },
 "nbformat": 4,
 "nbformat_minor": 5
}
